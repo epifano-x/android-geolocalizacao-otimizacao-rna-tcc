{
 "cells": [
  {
   "cell_type": "markdown",
   "metadata": {},
   "source": [
    "# Exploração de Dados das Tabelas\n",
    "\n",
    "Neste notebook, realizaremos uma exploração detalhada dos dados obtidos por aparelho e por dia. O objetivo é comparar os resultados entre os diferentes dispositivos e analisar as diferenças entre eles. Vamos visualizar esses dados de diversas maneiras e extrair insights relevantes para nossa análise.\n",
    "\n",
    "## Objetivos:\n",
    "- Comparar os resultados dos diferentes aparelhos.\n",
    "- Analisar as diferenças entre os dados coletados por cada dispositivo.\n",
    "- Visualizar os dados de forma estratificada para identificar padrões ou tendências.\n",
    "\n",
    "## Etapas de Exploração:\n",
    "1. Carregamento e pré-processamento dos dados.\n",
    "2. Análise estatística descritiva.\n",
    "3. Visualização dos dados por meio de gráficos e plots.\n",
    "4. Comparação entre os aparelhos e os dias.\n",
    "5. Identificação de diferenças significativas.\n",
    "6. Exploração de correlações entre as variáveis.\n",
    "7. Análise de tendências ao longo do tempo.\n",
    "8. Extração de insights e conclusões.\n",
    "\n",
    "## Por que explorar os dados de forma atomizada?\n",
    "Ao explorar os dados de forma atomizada, ou seja, analisando cada aparelho e dia separadamente, podemos identificar padrões e variações específicas de cada dispositivo. Isso nos permite entender melhor o desempenho de cada aparelho em diferentes condições e contextos, além de nos ajudar a detectar possíveis problemas ou anomalias em determinados dias ou momentos.\n",
    "\n",
    "## Por que comparar os resultados em dias diferentes e aparelhos diferentes?\n",
    "A comparação entre os resultados em dias diferentes nos permite avaliar a consistência dos dados ao longo do tempo e identificar possíveis variações sazonais ou tendências. Por outro lado, a comparação entre os aparelhos nos ajuda a entender como diferentes dispositivos se comportam em situações semelhantes e a identificar possíveis disparidades ou discrepâncias entre eles.\n",
    "\n",
    "## Por que visualizar os dados de forma estratificada?\n",
    "A visualização dos dados de forma estratificada nos permite identificar padrões e tendências que podem estar ocultos em uma análise agregada. Ao segmentar os dados por diferentes variáveis, como hora do dia, localização ou condições ambientais, podemos obter insights mais detalhados sobre o comportamento dos dispositivos e as relações entre as variáveis.\n",
    "\n",
    "Vamos começar nossa jornada de exploração de dados e descobrir o que podemos aprender com essas informações!\n"
   ]
  },
  {
   "cell_type": "markdown",
   "metadata": {},
   "source": [
    "_____\n",
    "## Importação de Bibliotecas e Código\n",
    "\n",
    "Nesta seção, importaremos as bibliotecas necessárias para nossa análise exploratória de dados e escreveremos o código para carregar e processar os dados.\n",
    "Vamos começar importando as bibliotecas:\n"
   ]
  },
  {
   "cell_type": "code",
   "execution_count": 5,
   "metadata": {},
   "outputs": [],
   "source": [
    "import json\n",
    "import pandas as pd\n",
    "import numpy as np\n",
    "import matplotlib.pyplot as plt\n",
    "import seaborn as sns\n"
   ]
  },
  {
   "cell_type": "markdown",
   "metadata": {},
   "source": [
    "## Importação dos Arquivos JSON\n",
    "\n",
    "Nesta etapa, vamos importar os dados JSON dos quatro aparelhos em dois dias para realizar nossa análise exploratória de dados. Os dados serão carregados e armazenados em estruturas de dados apropriadas para facilitar a análise.\n"
   ]
  },
  {
   "cell_type": "code",
   "execution_count": 6,
   "metadata": {},
   "outputs": [
    {
     "name": "stdout",
     "output_type": "stream",
     "text": [
      "Dados importados com sucesso!\n"
     ]
    }
   ],
   "source": [
    "# Lista de nomes dos arquivos JSON\n",
    "arquivos_json = [\"Aparelho1Dia1.json\", \"Aparelho2Dia1.json\", \"Aparelho3Dia1.json\", \"Aparelho4Dia1.json\",\n",
    "                 \"Aparelho1Dia2.json\", \"Aparelho2Dia2.json\", \"Aparelho3Dia2.json\", \"Aparelho4Dia2.json\"]\n",
    "\n",
    "# Dicionário para armazenar os dados de cada arquivo JSON\n",
    "dados_por_arquivo = {}\n",
    "\n",
    "# Importar os dados de cada arquivo JSON e armazenar no dicionário\n",
    "for arquivo_json in arquivos_json:\n",
    "    with open(arquivo_json, \"r\") as arquivo:\n",
    "        dados = json.load(arquivo)\n",
    "        dados_por_arquivo[arquivo_json] = dados\n",
    "\n",
    "print(\"Dados importados com sucesso!\")\n"
   ]
  }
 ],
 "metadata": {
  "kernelspec": {
   "display_name": "Python 3",
   "language": "python",
   "name": "python3"
  },
  "language_info": {
   "codemirror_mode": {
    "name": "ipython",
    "version": 3
   },
   "file_extension": ".py",
   "mimetype": "text/x-python",
   "name": "python",
   "nbconvert_exporter": "python",
   "pygments_lexer": "ipython3",
   "version": "3.11.4"
  }
 },
 "nbformat": 4,
 "nbformat_minor": 2
}
